version https://git-lfs.github.com/spec/v1
oid sha256:c181e60cf867672a85b18b081ae844f34cad6f8e8d3604a2fef67ca0a5f427b7
size 27842
